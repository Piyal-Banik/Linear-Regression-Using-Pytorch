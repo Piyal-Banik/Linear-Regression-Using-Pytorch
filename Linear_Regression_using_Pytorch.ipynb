{
  "nbformat": 4,
  "nbformat_minor": 0,
  "metadata": {
    "colab": {
      "provenance": [],
      "gpuType": "T4"
    },
    "kernelspec": {
      "name": "python3",
      "display_name": "Python 3"
    },
    "language_info": {
      "name": "python"
    },
    "accelerator": "GPU"
  },
  "cells": [
    {
      "cell_type": "code",
      "source": [
        "import torch\n",
        "from torch import nn\n",
        "from sklearn.model_selection import train_test_split\n",
        "from tqdm import tqdm\n",
        "import warnings\n",
        "\n",
        "warnings.filterwarnings(\"ignore\")\n",
        "torch.__version__"
      ],
      "metadata": {
        "colab": {
          "base_uri": "https://localhost:8080/",
          "height": 36
        },
        "id": "HabhwUwGFpxj",
        "outputId": "f0b47817-f512-43c5-b5d2-d929aca4d11a"
      },
      "execution_count": 1,
      "outputs": [
        {
          "output_type": "execute_result",
          "data": {
            "text/plain": [
              "'2.5.1+cu124'"
            ],
            "application/vnd.google.colaboratory.intrinsic+json": {
              "type": "string"
            }
          },
          "metadata": {},
          "execution_count": 1
        }
      ]
    },
    {
      "cell_type": "code",
      "source": [
        "device = 'cuda' if torch.cuda.is_available() else 'cpu'"
      ],
      "metadata": {
        "id": "k7ynPq_jGIz3"
      },
      "execution_count": 2,
      "outputs": []
    },
    {
      "cell_type": "code",
      "source": [
        "device"
      ],
      "metadata": {
        "colab": {
          "base_uri": "https://localhost:8080/",
          "height": 36
        },
        "id": "DgJLDXFyGNcw",
        "outputId": "59cfb06b-3252-49cd-f834-d7a4c3282012"
      },
      "execution_count": 3,
      "outputs": [
        {
          "output_type": "execute_result",
          "data": {
            "text/plain": [
              "'cuda'"
            ],
            "application/vnd.google.colaboratory.intrinsic+json": {
              "type": "string"
            }
          },
          "metadata": {},
          "execution_count": 3
        }
      ]
    },
    {
      "cell_type": "markdown",
      "source": [
        "## Create Some Dummy Data"
      ],
      "metadata": {
        "id": "zhXy3w4YGnGR"
      }
    },
    {
      "cell_type": "code",
      "source": [
        "num_features = 10\n",
        "num_samples = 1000"
      ],
      "metadata": {
        "id": "z5f5DtdmIBpA"
      },
      "execution_count": 4,
      "outputs": []
    },
    {
      "cell_type": "code",
      "source": [
        "# Generate random data for X\n",
        "X = torch.rand(size=(num_samples, num_features), dtype=torch.float)"
      ],
      "metadata": {
        "id": "McqH3xE6IqWn"
      },
      "execution_count": 5,
      "outputs": []
    },
    {
      "cell_type": "code",
      "source": [
        "# Generate random weights and bias which will act as original weights and bias used to create y\n",
        "original_weights = torch.randn(size=(num_features, 1), dtype=torch.float)\n",
        "original_bias = torch.randn(1)"
      ],
      "metadata": {
        "id": "WMfv95DvJYIn"
      },
      "execution_count": 6,
      "outputs": []
    },
    {
      "cell_type": "code",
      "source": [
        "y = X @ original_weights + original_bias"
      ],
      "metadata": {
        "id": "pZTxA5wCJmf3"
      },
      "execution_count": 7,
      "outputs": []
    },
    {
      "cell_type": "code",
      "source": [
        "# Print shapes\n",
        "print(\"X shape:\", X.shape)\n",
        "print(\"y shape:\", y.shape)"
      ],
      "metadata": {
        "colab": {
          "base_uri": "https://localhost:8080/"
        },
        "id": "sGfe5ehHJw8n",
        "outputId": "22e25b62-2973-4c17-cca8-148a50f39709"
      },
      "execution_count": 8,
      "outputs": [
        {
          "output_type": "stream",
          "name": "stdout",
          "text": [
            "X shape: torch.Size([1000, 10])\n",
            "y shape: torch.Size([1000, 1])\n"
          ]
        }
      ]
    },
    {
      "cell_type": "code",
      "source": [
        "X_train, X_test, y_train, y_test = train_test_split(X, y, test_size=0.2)"
      ],
      "metadata": {
        "id": "AOX1yxo0LcsZ"
      },
      "execution_count": 9,
      "outputs": []
    },
    {
      "cell_type": "code",
      "source": [
        "# Print train and test shapes\n",
        "print(\"X Train shape:\", X_train.shape)\n",
        "print(\"y Train shape:\", y_train.shape)\n",
        "print(\"X Test shape:\", X_test.shape)\n",
        "print(\"y Test shape:\", y_test.shape)"
      ],
      "metadata": {
        "colab": {
          "base_uri": "https://localhost:8080/"
        },
        "id": "QFFsI4sRLkjQ",
        "outputId": "833a4a09-c2a7-49b7-ca6d-475680f2e884"
      },
      "execution_count": 10,
      "outputs": [
        {
          "output_type": "stream",
          "name": "stdout",
          "text": [
            "X Train shape: torch.Size([800, 10])\n",
            "y Train shape: torch.Size([800, 1])\n",
            "X Test shape: torch.Size([200, 10])\n",
            "y Test shape: torch.Size([200, 1])\n"
          ]
        }
      ]
    },
    {
      "cell_type": "markdown",
      "source": [
        "## Define Linear Regression Model"
      ],
      "metadata": {
        "id": "sUAc1xjRKG-Z"
      }
    },
    {
      "cell_type": "code",
      "source": [
        "# Model is subclass of nn.Module\n",
        "class LinearRegressionModel(nn.Module):\n",
        "  def __init__(self):\n",
        "    super().__init__()\n",
        "\n",
        "    # Linear layer\n",
        "    self.linear_layer = nn.Linear(in_features=num_features, out_features=1)\n",
        "\n",
        "  # override forward method of nn.Module\n",
        "  def forward(self, X):\n",
        "    return self.linear_layer(X)"
      ],
      "metadata": {
        "id": "uZS9duY8J3r_"
      },
      "execution_count": 11,
      "outputs": []
    },
    {
      "cell_type": "code",
      "source": [
        "model = LinearRegressionModel()"
      ],
      "metadata": {
        "id": "ni6K1BruKwGR"
      },
      "execution_count": 12,
      "outputs": []
    },
    {
      "cell_type": "code",
      "source": [
        "list(model.parameters())"
      ],
      "metadata": {
        "colab": {
          "base_uri": "https://localhost:8080/"
        },
        "id": "kFb3r2TvKx8v",
        "outputId": "fab74edd-5220-4d0b-f2e4-d9550823b8c3"
      },
      "execution_count": 13,
      "outputs": [
        {
          "output_type": "execute_result",
          "data": {
            "text/plain": [
              "[Parameter containing:\n",
              " tensor([[ 0.1064,  0.0254,  0.1777,  0.2607,  0.2963,  0.0662, -0.0234,  0.1621,\n",
              "          -0.2293, -0.3072]], requires_grad=True),\n",
              " Parameter containing:\n",
              " tensor([-0.2464], requires_grad=True)]"
            ]
          },
          "metadata": {},
          "execution_count": 13
        }
      ]
    },
    {
      "cell_type": "markdown",
      "source": [
        "## Set model and data to same device"
      ],
      "metadata": {
        "id": "-Aq1TTN3PY7I"
      }
    },
    {
      "cell_type": "code",
      "source": [
        "model = model.to(device)\n",
        "X_train = X_train.to(device)\n",
        "y_train = y_train.to(device)\n",
        "X_test = X_test.to(device)\n",
        "y_test = y_test.to(device)"
      ],
      "metadata": {
        "id": "PxUw9eU2Pb6a"
      },
      "execution_count": 14,
      "outputs": []
    },
    {
      "cell_type": "markdown",
      "source": [
        "## Training Loop"
      ],
      "metadata": {
        "id": "pY54OKwcK6lJ"
      }
    },
    {
      "cell_type": "code",
      "source": [
        "# define cost function\n",
        "loss_fn = nn.MSELoss()\n",
        "\n",
        "# define optimizer\n",
        "optimizer = torch.optim.SGD(model.parameters(), lr=0.001, momentum=0.9)"
      ],
      "metadata": {
        "id": "wwxWf-UiKzV_"
      },
      "execution_count": 15,
      "outputs": []
    },
    {
      "cell_type": "code",
      "source": [
        "num_epochs = 1000\n",
        "\n",
        "for epoch in range(num_epochs):\n",
        "  #set model to training\n",
        "  model.train()\n",
        "\n",
        "  #1. Forward pass\n",
        "  y_pred = model(X_train)\n",
        "\n",
        "  #2. Calculate loss\n",
        "  loss = loss_fn(y_train, y_pred)\n",
        "\n",
        "  #3. Set optimizer zero grad\n",
        "  optimizer.zero_grad()\n",
        "\n",
        "  #4. Loss backward\n",
        "  loss.backward()\n",
        "\n",
        "  #5. Optimizer step\n",
        "  optimizer.step()\n",
        "\n",
        "  #6. Inference\n",
        "  if(epoch % 100 == 0):\n",
        "    model.eval()\n",
        "    with torch.inference_mode():\n",
        "      y_test_pred = model(X_test)\n",
        "      loss_test = loss_fn(y_test_pred, y_test)\n",
        "      print(f\"Epoch {epoch} | Training Set Loss {loss} | Test Set Loss {loss_test}\")"
      ],
      "metadata": {
        "colab": {
          "base_uri": "https://localhost:8080/"
        },
        "id": "_OuTAy0qLKu3",
        "outputId": "25e41b2b-2751-4a7f-8ecc-37d0c4760129"
      },
      "execution_count": 16,
      "outputs": [
        {
          "output_type": "stream",
          "name": "stdout",
          "text": [
            "Epoch 0 | Training Set Loss 13.65917682647705 | Test Set Loss 14.222023963928223\n",
            "Epoch 100 | Training Set Loss 0.4257676601409912 | Test Set Loss 0.4217972457408905\n",
            "Epoch 200 | Training Set Loss 0.30123233795166016 | Test Set Loss 0.29712438583374023\n",
            "Epoch 300 | Training Set Loss 0.2141295075416565 | Test Set Loss 0.21206194162368774\n",
            "Epoch 400 | Training Set Loss 0.15282398462295532 | Test Set Loss 0.151864156126976\n",
            "Epoch 500 | Training Set Loss 0.10957647114992142 | Test Set Loss 0.10917282104492188\n",
            "Epoch 600 | Training Set Loss 0.0789899006485939 | Test Set Loss 0.0788324847817421\n",
            "Epoch 700 | Training Set Loss 0.0572955422103405 | Test Set Loss 0.057219427078962326\n",
            "Epoch 800 | Training Set Loss 0.041858136653900146 | Test Set Loss 0.04178304597735405\n",
            "Epoch 900 | Training Set Loss 0.030832519754767418 | Test Set Loss 0.030725693330168724\n"
          ]
        }
      ]
    },
    {
      "cell_type": "markdown",
      "source": [
        "## Make predictions"
      ],
      "metadata": {
        "id": "WAFGIZ9AQMr4"
      }
    },
    {
      "cell_type": "code",
      "source": [
        "model.eval()\n",
        "\n",
        "with torch.inference_mode():\n",
        "  y_test_pred = model(X_test)"
      ],
      "metadata": {
        "id": "YGEeBOgrMQ_n"
      },
      "execution_count": 17,
      "outputs": []
    },
    {
      "cell_type": "code",
      "source": [
        "y_test[:10]"
      ],
      "metadata": {
        "colab": {
          "base_uri": "https://localhost:8080/"
        },
        "collapsed": true,
        "id": "2KiD57QpNDdf",
        "outputId": "c6425ff0-01f2-4ecd-b08c-366b0ee62f49"
      },
      "execution_count": 18,
      "outputs": [
        {
          "output_type": "execute_result",
          "data": {
            "text/plain": [
              "tensor([[-3.7715],\n",
              "        [-4.4885],\n",
              "        [-5.3416],\n",
              "        [-4.1589],\n",
              "        [-3.8064],\n",
              "        [-4.0408],\n",
              "        [-3.6651],\n",
              "        [-4.0178],\n",
              "        [-2.9622],\n",
              "        [-2.9253]], device='cuda:0')"
            ]
          },
          "metadata": {},
          "execution_count": 18
        }
      ]
    },
    {
      "cell_type": "code",
      "source": [
        "y_test_pred[:10]"
      ],
      "metadata": {
        "colab": {
          "base_uri": "https://localhost:8080/"
        },
        "id": "uAXBQHfjNEcX",
        "outputId": "2b1196db-5969-42bc-ab10-d644e9f28cce"
      },
      "execution_count": 19,
      "outputs": [
        {
          "output_type": "execute_result",
          "data": {
            "text/plain": [
              "tensor([[-3.8224],\n",
              "        [-4.2661],\n",
              "        [-5.1328],\n",
              "        [-4.1516],\n",
              "        [-3.7890],\n",
              "        [-4.0706],\n",
              "        [-3.8289],\n",
              "        [-4.0112],\n",
              "        [-2.9219],\n",
              "        [-2.9771]], device='cuda:0')"
            ]
          },
          "metadata": {},
          "execution_count": 19
        }
      ]
    },
    {
      "cell_type": "markdown",
      "source": [
        "## Save and Load Model"
      ],
      "metadata": {
        "id": "sIKvhTvwdvD9"
      }
    },
    {
      "cell_type": "code",
      "source": [
        "from pathlib import Path\n",
        "\n",
        "#1. Create models directory\n",
        "MODEL_PATH = Path(\"models\")\n",
        "MODEL_PATH.mkdir(parents=True, exist_ok=True)"
      ],
      "metadata": {
        "id": "HEPRLg0rd47s"
      },
      "execution_count": 20,
      "outputs": []
    },
    {
      "cell_type": "code",
      "source": [
        "from pathlib import Path\n",
        "\n",
        "# create models directory\n",
        "MODEL_PATH = Path(\"models\")\n",
        "MODEL_PATH.mkdir(parents=True, exist_ok=True)"
      ],
      "metadata": {
        "id": "puTIwerXNLO_"
      },
      "execution_count": 21,
      "outputs": []
    },
    {
      "cell_type": "code",
      "source": [
        "# create model save path\n",
        "MODEL_NAME = \"linear_regression_model.pth\"\n",
        "MODEL_SAVE_PATH = MODEL_PATH / MODEL_NAME"
      ],
      "metadata": {
        "id": "Jwlg0xEXd1be"
      },
      "execution_count": 22,
      "outputs": []
    },
    {
      "cell_type": "code",
      "source": [
        "# save the model state dict\n",
        "print(f\"Saving model to: {MODEL_SAVE_PATH}\")\n",
        "torch.save(obj=model.state_dict(), # only saves the models learned parameters\n",
        "           f=MODEL_SAVE_PATH)"
      ],
      "metadata": {
        "colab": {
          "base_uri": "https://localhost:8080/"
        },
        "id": "qRndNg_Bd2ke",
        "outputId": "27ee3e54-baff-430c-b1a9-4f2fc2bad0d8"
      },
      "execution_count": 23,
      "outputs": [
        {
          "output_type": "stream",
          "name": "stdout",
          "text": [
            "Saving model to: models/linear_regression_model.pth\n"
          ]
        }
      ]
    },
    {
      "cell_type": "code",
      "source": [
        "# instantiate a fresh instance of LinearRegressionMode\n",
        "loaded_model = LinearRegressionModel()\n",
        "\n",
        "# load model state dict\n",
        "loaded_model.load_state_dict(torch.load(MODEL_SAVE_PATH))\n",
        "\n",
        "# put model to target device\n",
        "loaded_model.to(device)"
      ],
      "metadata": {
        "colab": {
          "base_uri": "https://localhost:8080/"
        },
        "id": "rGCnUiPZeOS0",
        "outputId": "ce7eae3e-d763-45b0-c4a8-8c174b410d86"
      },
      "execution_count": 24,
      "outputs": [
        {
          "output_type": "execute_result",
          "data": {
            "text/plain": [
              "LinearRegressionModel(\n",
              "  (linear_layer): Linear(in_features=10, out_features=1, bias=True)\n",
              ")"
            ]
          },
          "metadata": {},
          "execution_count": 24
        }
      ]
    },
    {
      "cell_type": "code",
      "source": [],
      "metadata": {
        "id": "YC-QvyzNez2k"
      },
      "execution_count": 24,
      "outputs": []
    }
  ]
}