{
  "nbformat": 4,
  "nbformat_minor": 0,
  "metadata": {
    "colab": {
      "provenance": [],
      "toc_visible": true,
      "gpuType": "T4"
    },
    "kernelspec": {
      "name": "python3",
      "display_name": "Python 3"
    },
    "language_info": {
      "name": "python"
    },
    "accelerator": "GPU"
  },
  "cells": [
    {
      "cell_type": "code",
      "source": [
        "import torch\n",
        "from torch import nn\n",
        "from sklearn.model_selection import train_test_split\n",
        "from tqdm import tqdm\n",
        "torch.__version__"
      ],
      "metadata": {
        "colab": {
          "base_uri": "https://localhost:8080/",
          "height": 36
        },
        "id": "HabhwUwGFpxj",
        "outputId": "11deaa06-85b4-41a2-ee76-83df879ec476"
      },
      "execution_count": 1,
      "outputs": [
        {
          "output_type": "execute_result",
          "data": {
            "text/plain": [
              "'2.5.1+cu124'"
            ],
            "application/vnd.google.colaboratory.intrinsic+json": {
              "type": "string"
            }
          },
          "metadata": {},
          "execution_count": 1
        }
      ]
    },
    {
      "cell_type": "code",
      "source": [
        "device = 'cuda' if torch.cuda.is_available() else 'cpu'"
      ],
      "metadata": {
        "id": "k7ynPq_jGIz3"
      },
      "execution_count": 2,
      "outputs": []
    },
    {
      "cell_type": "code",
      "source": [
        "device"
      ],
      "metadata": {
        "colab": {
          "base_uri": "https://localhost:8080/",
          "height": 36
        },
        "id": "DgJLDXFyGNcw",
        "outputId": "e86b01bb-760c-44dd-ef82-adde66d228c3"
      },
      "execution_count": 3,
      "outputs": [
        {
          "output_type": "execute_result",
          "data": {
            "text/plain": [
              "'cuda'"
            ],
            "application/vnd.google.colaboratory.intrinsic+json": {
              "type": "string"
            }
          },
          "metadata": {},
          "execution_count": 3
        }
      ]
    },
    {
      "cell_type": "markdown",
      "source": [
        "## Create Some Dummy Data"
      ],
      "metadata": {
        "id": "zhXy3w4YGnGR"
      }
    },
    {
      "cell_type": "code",
      "source": [
        "num_features = 10\n",
        "num_samples = 1000"
      ],
      "metadata": {
        "id": "z5f5DtdmIBpA"
      },
      "execution_count": 4,
      "outputs": []
    },
    {
      "cell_type": "code",
      "source": [
        "# Generate random data for X\n",
        "X = torch.rand(size=(num_samples, num_features), dtype=torch.float)"
      ],
      "metadata": {
        "id": "McqH3xE6IqWn"
      },
      "execution_count": 5,
      "outputs": []
    },
    {
      "cell_type": "code",
      "source": [
        "# Generate random weights and bias which will act as original weights and bias used to create y\n",
        "original_weights = torch.randn(size=(num_features, 1), dtype=torch.float)\n",
        "original_bias = torch.randn(1)"
      ],
      "metadata": {
        "id": "WMfv95DvJYIn"
      },
      "execution_count": 6,
      "outputs": []
    },
    {
      "cell_type": "code",
      "source": [
        "y = X @ original_weights + original_bias"
      ],
      "metadata": {
        "id": "pZTxA5wCJmf3"
      },
      "execution_count": 7,
      "outputs": []
    },
    {
      "cell_type": "code",
      "source": [
        "# Print shapes\n",
        "print(\"X shape:\", X.shape)\n",
        "print(\"y shape:\", y.shape)"
      ],
      "metadata": {
        "colab": {
          "base_uri": "https://localhost:8080/"
        },
        "id": "sGfe5ehHJw8n",
        "outputId": "e3e5c08d-f375-480e-c385-d84fe8dbdb38"
      },
      "execution_count": 8,
      "outputs": [
        {
          "output_type": "stream",
          "name": "stdout",
          "text": [
            "X shape: torch.Size([1000, 10])\n",
            "y shape: torch.Size([1000, 1])\n"
          ]
        }
      ]
    },
    {
      "cell_type": "code",
      "source": [
        "X_train, X_test, y_train, y_test = train_test_split(X, y, test_size=0.2)"
      ],
      "metadata": {
        "id": "AOX1yxo0LcsZ"
      },
      "execution_count": 9,
      "outputs": []
    },
    {
      "cell_type": "code",
      "source": [
        "# Print train and test shapes\n",
        "print(\"X Train shape:\", X_train.shape)\n",
        "print(\"y Train shape:\", y_train.shape)\n",
        "print(\"X Test shape:\", X_test.shape)\n",
        "print(\"y Test shape:\", y_test.shape)"
      ],
      "metadata": {
        "colab": {
          "base_uri": "https://localhost:8080/"
        },
        "id": "QFFsI4sRLkjQ",
        "outputId": "2b958cda-648d-4f18-f7c3-26ad2158eeef"
      },
      "execution_count": 10,
      "outputs": [
        {
          "output_type": "stream",
          "name": "stdout",
          "text": [
            "X Train shape: torch.Size([800, 10])\n",
            "y Train shape: torch.Size([800, 1])\n",
            "X Test shape: torch.Size([200, 10])\n",
            "y Test shape: torch.Size([200, 1])\n"
          ]
        }
      ]
    },
    {
      "cell_type": "markdown",
      "source": [
        "## Define Linear Regression Model"
      ],
      "metadata": {
        "id": "sUAc1xjRKG-Z"
      }
    },
    {
      "cell_type": "code",
      "source": [
        "# Model is subclass of nn.Module\n",
        "class LinearRegressionModel(nn.Module):\n",
        "  def __init__(self):\n",
        "    super().__init__()\n",
        "\n",
        "    # Linear layer\n",
        "    self.linear_layer = nn.Linear(in_features=num_features, out_features=1)\n",
        "\n",
        "  # override forward method of nn.Module\n",
        "  def forward(self, X):\n",
        "    return self.linear_layer(X)"
      ],
      "metadata": {
        "id": "uZS9duY8J3r_"
      },
      "execution_count": 11,
      "outputs": []
    },
    {
      "cell_type": "code",
      "source": [
        "model = LinearRegressionModel()"
      ],
      "metadata": {
        "id": "ni6K1BruKwGR"
      },
      "execution_count": 12,
      "outputs": []
    },
    {
      "cell_type": "code",
      "source": [
        "list(model.parameters())"
      ],
      "metadata": {
        "colab": {
          "base_uri": "https://localhost:8080/"
        },
        "id": "kFb3r2TvKx8v",
        "outputId": "43b7bf94-317e-475c-c3bc-f66841e8f50b"
      },
      "execution_count": 13,
      "outputs": [
        {
          "output_type": "execute_result",
          "data": {
            "text/plain": [
              "[Parameter containing:\n",
              " tensor([[ 0.1445, -0.1143,  0.2820, -0.2890, -0.2298,  0.1156, -0.1046, -0.1054,\n",
              "          -0.2429,  0.0691]], requires_grad=True),\n",
              " Parameter containing:\n",
              " tensor([-0.0339], requires_grad=True)]"
            ]
          },
          "metadata": {},
          "execution_count": 13
        }
      ]
    },
    {
      "cell_type": "markdown",
      "source": [
        "## Set model and data to same device"
      ],
      "metadata": {
        "id": "-Aq1TTN3PY7I"
      }
    },
    {
      "cell_type": "code",
      "source": [
        "model = model.to(device)\n",
        "X_train = X_train.to(device)\n",
        "y_train = y_train.to(device)\n",
        "X_test = X_test.to(device)\n",
        "y_test = y_test.to(device)"
      ],
      "metadata": {
        "id": "PxUw9eU2Pb6a"
      },
      "execution_count": 14,
      "outputs": []
    },
    {
      "cell_type": "markdown",
      "source": [
        "## Training Loop"
      ],
      "metadata": {
        "id": "pY54OKwcK6lJ"
      }
    },
    {
      "cell_type": "code",
      "source": [
        "# define cost function\n",
        "loss_fn = nn.MSELoss()\n",
        "\n",
        "# define optimizer\n",
        "optimizer = torch.optim.SGD(model.parameters(), lr=0.001, momentum=0.9)"
      ],
      "metadata": {
        "id": "wwxWf-UiKzV_"
      },
      "execution_count": 15,
      "outputs": []
    },
    {
      "cell_type": "code",
      "source": [
        "num_epochs = 1000\n",
        "\n",
        "for epoch in range(num_epochs):\n",
        "  #set model to training\n",
        "  model.train()\n",
        "\n",
        "  #1. Forward pass\n",
        "  y_pred = model(X_train)\n",
        "\n",
        "  #2. Calculate loss\n",
        "  loss = loss_fn(y_train, y_pred)\n",
        "\n",
        "  #3. Set optimizer zero grad\n",
        "  optimizer.zero_grad()\n",
        "\n",
        "  #4. Loss backward\n",
        "  loss.backward()\n",
        "\n",
        "  #5. Optimizer step\n",
        "  optimizer.step()\n",
        "\n",
        "  #6. Inference\n",
        "  if(epoch % 100 == 0):\n",
        "    model.eval()\n",
        "    with torch.inference_mode():\n",
        "      y_test_pred = model(X_test)\n",
        "      loss_test = loss_fn(y_test_pred, y_test)\n",
        "      print(f\"Epoch {epoch} | Training Set Loss {loss} | Test Set Loss {loss_test}\")"
      ],
      "metadata": {
        "colab": {
          "base_uri": "https://localhost:8080/"
        },
        "id": "_OuTAy0qLKu3",
        "outputId": "73d3aa0d-f77a-4f8e-aafd-f4eb487d587c"
      },
      "execution_count": 16,
      "outputs": [
        {
          "output_type": "stream",
          "name": "stdout",
          "text": [
            "Epoch 0 | Training Set Loss 0.09649810940027237 | Test Set Loss 0.10279981046915054\n",
            "Epoch 100 | Training Set Loss 0.06734631955623627 | Test Set Loss 0.07079833000898361\n",
            "Epoch 200 | Training Set Loss 0.048248402774333954 | Test Set Loss 0.050895560532808304\n",
            "Epoch 300 | Training Set Loss 0.034643061459064484 | Test Set Loss 0.03668508306145668\n",
            "Epoch 400 | Training Set Loss 0.024941787123680115 | Test Set Loss 0.026523713022470474\n",
            "Epoch 500 | Training Set Loss 0.018016912043094635 | Test Set Loss 0.0192481130361557\n",
            "Epoch 600 | Training Set Loss 0.01306756492704153 | Test Set Loss 0.014030643738806248\n",
            "Epoch 700 | Training Set Loss 0.009524732828140259 | Test Set Loss 0.010282177478075027\n",
            "Epoch 800 | Training Set Loss 0.0069839912466704845 | Test Set Loss 0.007583157625049353\n",
            "Epoch 900 | Training Set Loss 0.005157767329365015 | Test Set Loss 0.00563463568687439\n"
          ]
        }
      ]
    },
    {
      "cell_type": "markdown",
      "source": [
        "## Make predictions"
      ],
      "metadata": {
        "id": "WAFGIZ9AQMr4"
      }
    },
    {
      "cell_type": "code",
      "source": [
        "model.eval()\n",
        "\n",
        "with torch.inference_mode():\n",
        "  y_test_pred = model(X_test)"
      ],
      "metadata": {
        "id": "YGEeBOgrMQ_n"
      },
      "execution_count": 17,
      "outputs": []
    },
    {
      "cell_type": "code",
      "source": [
        "y_test[:10]"
      ],
      "metadata": {
        "colab": {
          "base_uri": "https://localhost:8080/"
        },
        "collapsed": true,
        "id": "2KiD57QpNDdf",
        "outputId": "e3d3fcd2-9a03-4408-e79b-d4ecafff0ae5"
      },
      "execution_count": 18,
      "outputs": [
        {
          "output_type": "execute_result",
          "data": {
            "text/plain": [
              "tensor([[-0.4530],\n",
              "        [-0.1436],\n",
              "        [-0.9461],\n",
              "        [-0.2386],\n",
              "        [-0.7597],\n",
              "        [ 0.2255],\n",
              "        [-0.0547],\n",
              "        [-0.1716],\n",
              "        [-0.8107],\n",
              "        [-0.5328]], device='cuda:0')"
            ]
          },
          "metadata": {},
          "execution_count": 18
        }
      ]
    },
    {
      "cell_type": "code",
      "source": [
        "y_test_pred[:10]"
      ],
      "metadata": {
        "colab": {
          "base_uri": "https://localhost:8080/"
        },
        "id": "uAXBQHfjNEcX",
        "outputId": "c0eac4c7-ac53-4e50-909c-e177bce97598"
      },
      "execution_count": 19,
      "outputs": [
        {
          "output_type": "execute_result",
          "data": {
            "text/plain": [
              "tensor([[-0.4432],\n",
              "        [-0.1285],\n",
              "        [-0.8695],\n",
              "        [-0.2445],\n",
              "        [-0.7767],\n",
              "        [ 0.1592],\n",
              "        [-0.1224],\n",
              "        [-0.1932],\n",
              "        [-0.6874],\n",
              "        [-0.5396]], device='cuda:0')"
            ]
          },
          "metadata": {},
          "execution_count": 19
        }
      ]
    },
    {
      "cell_type": "code",
      "source": [],
      "metadata": {
        "id": "puTIwerXNLO_"
      },
      "execution_count": 19,
      "outputs": []
    }
  ]
}